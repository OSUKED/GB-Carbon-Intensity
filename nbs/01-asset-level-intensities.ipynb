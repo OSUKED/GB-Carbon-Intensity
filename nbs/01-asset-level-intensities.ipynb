{
 "cells": [
  {
   "cell_type": "markdown",
   "id": "a4335dc9-2e39-41fa-a8d3-a02af8c5ca80",
   "metadata": {},
   "source": [
    "# Asset Level Carbon Intensity Estimation\n",
    "\n",
    "<br>\n",
    "\n",
    "### Imports"
   ]
  },
  {
   "cell_type": "code",
   "execution_count": 1,
   "id": "324bd3bc-8d8d-45d5-a7d0-bd23c8036f2c",
   "metadata": {},
   "outputs": [],
   "source": [
    "import numpy as np\n",
    "import pandas as pd\n",
    "\n",
    "import seaborn as sns\n",
    "import matplotlib.pyplot as plt\n",
    "\n",
    "import FEAutils as hlp"
   ]
  },
  {
   "cell_type": "markdown",
   "id": "006ff330-dcfb-4c06-ba9b-aa936568161e",
   "metadata": {},
   "source": [
    "<br>\n",
    "\n",
    "### Data Preparation\n",
    "\n",
    "We'll start by loading in the attribute data from the Power Station Dictionary"
   ]
  },
  {
   "cell_type": "code",
   "execution_count": 2,
   "id": "2c7793ba-f2bd-4b25-841a-ebdd7795a9dd",
   "metadata": {},
   "outputs": [
    {
     "data": {
      "text/html": [
       "<div>\n",
       "<style scoped>\n",
       "    .dataframe tbody tr th:only-of-type {\n",
       "        vertical-align: middle;\n",
       "    }\n",
       "\n",
       "    .dataframe tbody tr th {\n",
       "        vertical-align: top;\n",
       "    }\n",
       "\n",
       "    .dataframe thead th {\n",
       "        text-align: right;\n",
       "    }\n",
       "</style>\n",
       "<table border=\"1\" class=\"dataframe\">\n",
       "  <thead>\n",
       "    <tr style=\"text-align: right;\">\n",
       "      <th></th>\n",
       "      <th>attribute</th>\n",
       "      <th>id</th>\n",
       "      <th>value</th>\n",
       "      <th>datapackage</th>\n",
       "      <th>id_type</th>\n",
       "      <th>year</th>\n",
       "      <th>dictionary_id</th>\n",
       "      <th>financial_year</th>\n",
       "    </tr>\n",
       "  </thead>\n",
       "  <tbody>\n",
       "    <tr>\n",
       "      <th>0</th>\n",
       "      <td>Fuel Type</td>\n",
       "      <td>MARK-1</td>\n",
       "      <td>BIOMASS</td>\n",
       "      <td>https://raw.githubusercontent.com/OSUKED/Dicti...</td>\n",
       "      <td>ngc_bmu_id</td>\n",
       "      <td>NaN</td>\n",
       "      <td>10000</td>\n",
       "      <td>NaN</td>\n",
       "    </tr>\n",
       "    <tr>\n",
       "      <th>1</th>\n",
       "      <td>Longitude</td>\n",
       "      <td>10000</td>\n",
       "      <td>-3.603516</td>\n",
       "      <td>https://raw.githubusercontent.com/OSUKED/Dicti...</td>\n",
       "      <td>osuked_id</td>\n",
       "      <td>NaN</td>\n",
       "      <td>10000</td>\n",
       "      <td>NaN</td>\n",
       "    </tr>\n",
       "    <tr>\n",
       "      <th>2</th>\n",
       "      <td>Latitude</td>\n",
       "      <td>10000</td>\n",
       "      <td>57.480403</td>\n",
       "      <td>https://raw.githubusercontent.com/OSUKED/Dicti...</td>\n",
       "      <td>osuked_id</td>\n",
       "      <td>NaN</td>\n",
       "      <td>10000</td>\n",
       "      <td>NaN</td>\n",
       "    </tr>\n",
       "    <tr>\n",
       "      <th>3</th>\n",
       "      <td>Annual Output (MWh)</td>\n",
       "      <td>MARK-1</td>\n",
       "      <td>355704.933</td>\n",
       "      <td>https://raw.githubusercontent.com/OSUKED/Dicti...</td>\n",
       "      <td>ngc_bmu_id</td>\n",
       "      <td>2016.0</td>\n",
       "      <td>10000</td>\n",
       "      <td>NaN</td>\n",
       "    </tr>\n",
       "    <tr>\n",
       "      <th>4</th>\n",
       "      <td>Annual Output (MWh)</td>\n",
       "      <td>MARK-1</td>\n",
       "      <td>387311.364</td>\n",
       "      <td>https://raw.githubusercontent.com/OSUKED/Dicti...</td>\n",
       "      <td>ngc_bmu_id</td>\n",
       "      <td>2017.0</td>\n",
       "      <td>10000</td>\n",
       "      <td>NaN</td>\n",
       "    </tr>\n",
       "  </tbody>\n",
       "</table>\n",
       "</div>"
      ],
      "text/plain": [
       "             attribute      id       value  \\\n",
       "0            Fuel Type  MARK-1     BIOMASS   \n",
       "1            Longitude   10000   -3.603516   \n",
       "2             Latitude   10000   57.480403   \n",
       "3  Annual Output (MWh)  MARK-1  355704.933   \n",
       "4  Annual Output (MWh)  MARK-1  387311.364   \n",
       "\n",
       "                                         datapackage     id_type    year  \\\n",
       "0  https://raw.githubusercontent.com/OSUKED/Dicti...  ngc_bmu_id     NaN   \n",
       "1  https://raw.githubusercontent.com/OSUKED/Dicti...   osuked_id     NaN   \n",
       "2  https://raw.githubusercontent.com/OSUKED/Dicti...   osuked_id     NaN   \n",
       "3  https://raw.githubusercontent.com/OSUKED/Dicti...  ngc_bmu_id  2016.0   \n",
       "4  https://raw.githubusercontent.com/OSUKED/Dicti...  ngc_bmu_id  2017.0   \n",
       "\n",
       "   dictionary_id  financial_year  \n",
       "0          10000             NaN  \n",
       "1          10000             NaN  \n",
       "2          10000             NaN  \n",
       "3          10000             NaN  \n",
       "4          10000             NaN  "
      ]
     },
     "execution_count": 2,
     "metadata": {},
     "output_type": "execute_result"
    }
   ],
   "source": [
    "attributes_fp = 'https://osuked.github.io/Power-Station-Dictionary/object_attrs/dictionary_attributes.csv'\n",
    "\n",
    "df_attrs = pd.read_csv(attributes_fp)\n",
    "\n",
    "df_attrs.head()"
   ]
  },
  {
   "cell_type": "code",
   "execution_count": null,
   "id": "9824a6c6-aa37-4229-b731-f42ca6cba9c2",
   "metadata": {},
   "outputs": [],
   "source": []
  },
  {
   "cell_type": "code",
   "execution_count": 3,
   "id": "2fd1de64-f0e0-4110-82e1-65a72fe41027",
   "metadata": {},
   "outputs": [
    {
     "data": {
      "text/html": [
       "<div>\n",
       "<style scoped>\n",
       "    .dataframe tbody tr th:only-of-type {\n",
       "        vertical-align: middle;\n",
       "    }\n",
       "\n",
       "    .dataframe tbody tr th {\n",
       "        vertical-align: top;\n",
       "    }\n",
       "\n",
       "    .dataframe thead th {\n",
       "        text-align: right;\n",
       "    }\n",
       "</style>\n",
       "<table border=\"1\" class=\"dataframe\">\n",
       "  <thead>\n",
       "    <tr style=\"text-align: right;\">\n",
       "      <th></th>\n",
       "      <th>gppd_idnr</th>\n",
       "      <th>esail_id</th>\n",
       "      <th>name</th>\n",
       "      <th>sett_bmu_id</th>\n",
       "      <th>ngc_bmu_id</th>\n",
       "      <th>4c_offshore_id</th>\n",
       "      <th>windpowernet_id</th>\n",
       "      <th>wikidata_id</th>\n",
       "      <th>wikipedia_id</th>\n",
       "      <th>power_technology_id</th>\n",
       "      <th>eutl_id</th>\n",
       "      <th>eic_id</th>\n",
       "      <th>cfd_id</th>\n",
       "      <th>jrc_id</th>\n",
       "      <th>iaea_id</th>\n",
       "      <th>old_repd_id</th>\n",
       "      <th>new_repd_id</th>\n",
       "    </tr>\n",
       "    <tr>\n",
       "      <th>osuked_id</th>\n",
       "      <th></th>\n",
       "      <th></th>\n",
       "      <th></th>\n",
       "      <th></th>\n",
       "      <th></th>\n",
       "      <th></th>\n",
       "      <th></th>\n",
       "      <th></th>\n",
       "      <th></th>\n",
       "      <th></th>\n",
       "      <th></th>\n",
       "      <th></th>\n",
       "      <th></th>\n",
       "      <th></th>\n",
       "      <th></th>\n",
       "      <th></th>\n",
       "      <th></th>\n",
       "    </tr>\n",
       "  </thead>\n",
       "  <tbody>\n",
       "    <tr>\n",
       "      <th>10000</th>\n",
       "      <td>NaN</td>\n",
       "      <td>MARK</td>\n",
       "      <td>Rothes Bio-Plant CHP</td>\n",
       "      <td>E_MARK-1, E_MARK-2</td>\n",
       "      <td>MARK-1, MARK-2</td>\n",
       "      <td>NaN</td>\n",
       "      <td>NaN</td>\n",
       "      <td>NaN</td>\n",
       "      <td>NaN</td>\n",
       "      <td>NaN</td>\n",
       "      <td>NaN</td>\n",
       "      <td>48W000000MARK-1D</td>\n",
       "      <td>NaN</td>\n",
       "      <td>NaN</td>\n",
       "      <td>NaN</td>\n",
       "      <td>NaN</td>\n",
       "      <td>NaN</td>\n",
       "    </tr>\n",
       "    <tr>\n",
       "      <th>10001</th>\n",
       "      <td>GBR1000377, GBR1000369</td>\n",
       "      <td>DIDC</td>\n",
       "      <td>Didcot</td>\n",
       "      <td>T_DIDC1, T_DIDC2, T_DIDC4, T_DIDC3, T_DIDC1G, ...</td>\n",
       "      <td>DIDC1, DIDC2, DIDC4, DIDC3, DIDC1G, DIDC2G, DI...</td>\n",
       "      <td>NaN</td>\n",
       "      <td>NaN</td>\n",
       "      <td>NaN</td>\n",
       "      <td>NaN</td>\n",
       "      <td>NaN</td>\n",
       "      <td>97165</td>\n",
       "      <td>48W00000DIDC01G1, 48W00000DIDC02GZ, 48W00000DI...</td>\n",
       "      <td>NaN</td>\n",
       "      <td>NaN</td>\n",
       "      <td>NaN</td>\n",
       "      <td>NaN</td>\n",
       "      <td>NaN</td>\n",
       "    </tr>\n",
       "  </tbody>\n",
       "</table>\n",
       "</div>"
      ],
      "text/plain": [
       "                        gppd_idnr esail_id                  name  \\\n",
       "osuked_id                                                          \n",
       "10000                         NaN     MARK  Rothes Bio-Plant CHP   \n",
       "10001      GBR1000377, GBR1000369     DIDC                Didcot   \n",
       "\n",
       "                                                 sett_bmu_id  \\\n",
       "osuked_id                                                      \n",
       "10000                                     E_MARK-1, E_MARK-2   \n",
       "10001      T_DIDC1, T_DIDC2, T_DIDC4, T_DIDC3, T_DIDC1G, ...   \n",
       "\n",
       "                                                  ngc_bmu_id 4c_offshore_id  \\\n",
       "osuked_id                                                                     \n",
       "10000                                         MARK-1, MARK-2            NaN   \n",
       "10001      DIDC1, DIDC2, DIDC4, DIDC3, DIDC1G, DIDC2G, DI...            NaN   \n",
       "\n",
       "          windpowernet_id wikidata_id wikipedia_id power_technology_id  \\\n",
       "osuked_id                                                                \n",
       "10000                 NaN         NaN          NaN                 NaN   \n",
       "10001                 NaN         NaN          NaN                 NaN   \n",
       "\n",
       "          eutl_id                                             eic_id cfd_id  \\\n",
       "osuked_id                                                                     \n",
       "10000         NaN                                   48W000000MARK-1D    NaN   \n",
       "10001       97165  48W00000DIDC01G1, 48W00000DIDC02GZ, 48W00000DI...    NaN   \n",
       "\n",
       "          jrc_id iaea_id old_repd_id new_repd_id  \n",
       "osuked_id                                         \n",
       "10000        NaN     NaN         NaN         NaN  \n",
       "10001        NaN     NaN         NaN         NaN  "
      ]
     },
     "execution_count": 3,
     "metadata": {},
     "output_type": "execute_result"
    }
   ],
   "source": [
    "ids_fp = 'https://raw.githubusercontent.com/OSUKED/Power-Station-Dictionary/shiro/data/dictionary/ids.csv'\n",
    "\n",
    "df_ids = pd.read_csv(ids_fp).set_index('osuked_id')\n",
    "\n",
    "df_ids.head(2)"
   ]
  },
  {
   "cell_type": "markdown",
   "id": "f724e823-2c75-4216-8d89-f547dfd56435",
   "metadata": {},
   "source": [
    "<br>\n",
    "\n",
    "We'll then extract the CO2 emissions data"
   ]
  },
  {
   "cell_type": "code",
   "execution_count": 4,
   "id": "f15fd964-cb75-4b5a-8c12-bd38f3a2fc1d",
   "metadata": {},
   "outputs": [
    {
     "data": {
      "image/png": "[encoded data removed]",
      "text/plain": [
       "<Figure size 900x600 with 1 Axes>"
      ]
     },
     "metadata": {
      "needs_background": "light"
     },
     "output_type": "display_data"
    }
   ],
   "source": [
    "co2_attr = 'CO2 Emissions (Tonnes)'\n",
    "\n",
    "s_site_co2 = (\n",
    "    df_attrs\n",
    "    .query('attribute==@co2_attr')\n",
    "    [['dictionary_id', 'year', 'value']]\n",
    "    .dropna()\n",
    "    .astype({'dictionary_id': int, 'year': int, 'value': float})\n",
    "    .groupby(['dictionary_id', 'year'])\n",
    "    ['value']\n",
    "    .sum()\n",
    ")\n",
    "\n",
    "# Plotting\n",
    "fig, ax = plt.subplots(dpi=150)\n",
    "\n",
    "sns.histplot(s_site_co2, ax=ax)\n",
    "\n",
    "ax.set_xlabel(co2_attr)\n",
    "hlp.hide_spines(ax)"
   ]
  },
  {
   "cell_type": "markdown",
   "id": "74a0c548-5cd9-4b57-873e-556268f8c09b",
   "metadata": {},
   "source": [
    "<br>\n",
    "\n",
    "As well as the power output data"
   ]
  },
  {
   "cell_type": "code",
   "execution_count": 5,
   "id": "9811aac2-48cb-4216-bdbb-5aaea83f2345",
   "metadata": {},
   "outputs": [
    {
     "data": {
      "image/png": "[encoded data removed]",
      "text/plain": [
       "<Figure size 900x600 with 1 Axes>"
      ]
     },
     "metadata": {
      "needs_background": "light"
     },
     "output_type": "display_data"
    }
   ],
   "source": [
    "output_attr = 'Annual Output (MWh)'\n",
    "\n",
    "s_site_output = (\n",
    "    df_attrs\n",
    "    .query('attribute==@output_attr')\n",
    "    [['dictionary_id', 'year', 'value']]\n",
    "    .dropna()\n",
    "    .astype({'dictionary_id': int, 'year': int, 'value': float})\n",
    "    .groupby(['dictionary_id', 'year'])\n",
    "    ['value']\n",
    "    .sum()\n",
    ")\n",
    "\n",
    "# Plotting\n",
    "fig, ax = plt.subplots(dpi=150)\n",
    "\n",
    "sns.histplot(s_site_output, ax=ax)\n",
    "\n",
    "ax.set_xlabel(output_attr)\n",
    "hlp.hide_spines(ax)"
   ]
  },
  {
   "cell_type": "markdown",
   "id": "766505c1-1ec0-407e-92ed-6d35b474e99a",
   "metadata": {},
   "source": [
    "<br>\n",
    "\n",
    "And lastly the fuel types of each plant"
   ]
  },
  {
   "cell_type": "code",
   "execution_count": 6,
   "id": "07f297f3-9e80-4acd-a561-74037993167a",
   "metadata": {},
   "outputs": [
    {
     "data": {
      "text/plain": [
       "WIND                   112\n",
       "CCGT                    34\n",
       "NPSHYD                  13\n",
       "NUCLEAR                  7\n",
       "PS                       4\n",
       "OCGT                     4\n",
       "CCGT, OCGT               3\n",
       "BIOMASS                  3\n",
       "COAL, OCGT               1\n",
       "CCGT, COAL, OCGT         1\n",
       "Wind                     1\n",
       "OTHER                    1\n",
       "COAL, BIOMASS, OCGT      1\n",
       "Name: value, dtype: int64"
      ]
     },
     "execution_count": 6,
     "metadata": {},
     "output_type": "execute_result"
    }
   ],
   "source": [
    "fuel_attr = 'Fuel Type'\n",
    "\n",
    "s_site_fuel_type = (\n",
    "    df_attrs\n",
    "    .query('attribute==@fuel_attr')\n",
    "    [['dictionary_id', 'value']]\n",
    "    .dropna()\n",
    "    .astype({'dictionary_id': int, 'value': str})\n",
    "    .groupby('dictionary_id')\n",
    "    ['value']\n",
    "    .agg(lambda fuel_types: ', '.join(set(fuel_types)))\n",
    ")\n",
    "\n",
    "s_site_fuel_type.value_counts()"
   ]
  },
  {
   "cell_type": "code",
   "execution_count": null,
   "id": "17177c41-edc1-4cb0-8520-ff69596c1b4a",
   "metadata": {},
   "outputs": [],
   "source": []
  },
  {
   "cell_type": "code",
   "execution_count": 71,
   "id": "f9079a7f-1efa-45af-9bf0-d99ca9b1ac44",
   "metadata": {
    "tags": []
   },
   "outputs": [
    {
     "data": {
      "text/plain": [
       "wind       114\n",
       "ccgt        40\n",
       "npshyd      13\n",
       "coal        10\n",
       "mixed        8\n",
       "nuclear      8\n",
       "ocgt         6\n",
       "biomass      5\n",
       "ps           4\n",
       "recip        3\n",
       "diesel       1\n",
       "oil          1\n",
       "other        1\n",
       "dtype: int64"
      ]
     },
     "execution_count": 71,
     "metadata": {},
     "output_type": "execute_result"
    }
   ],
   "source": [
    "manual_fuel_matches = {\n",
    "    10000: 'biomass', # with CHP\n",
    "    10002: 'coal', # co-firing with biomass\n",
    "    10003: 'coal',\n",
    "    10005: 'coal',\n",
    "    10006: 'coal',\n",
    "    10007: 'coal',\n",
    "    10009: 'coal',\n",
    "    10012: 'coal',\n",
    "    10015: 'coal',\n",
    "    10018: 'biomass', # ran 100% biomass after 2015\n",
    "    10050: 'bess, ccgt', # coal before then ccgt since 1991 (now has a battery on the site since 2018)\n",
    "    10019: 'coal', # with oil\n",
    "    10020: 'coal, biomass',\n",
    "    10082: 'oil',\n",
    "    10022: 'ccgt',\n",
    "    10024: 'ocgt', # started running open-cycle after 2012\n",
    "    10088: 'recip',\n",
    "    10089: 'recip',\n",
    "    10028: 'ccgt',\n",
    "    10060: 'ocgt', # ccgts were shut down in 2011 (ocgts were too in 2015)\n",
    "    10061: 'ccgt',\n",
    "    10064: 'ccgt',\n",
    "    10037: 'ccgt',\n",
    "    10139: 'nuclear',\n",
    "    10071: 'ccgt', # with CHP\n",
    "    10141: 'coal', # with oil\n",
    "    10083: 'diesel', # with CHP\n",
    "    10078: 'recip',\n",
    "    10198: 'wind'\n",
    "}\n",
    "\n",
    "s_site_fuel_type_mod = s_site_fuel_type.copy().append(pd.Series(manual_fuel_matches))\n",
    "s_site_fuel_type_mod[s_site_fuel_type_mod.str.contains(', ')] = 'MIXED'\n",
    "s_site_fuel_type_mod = s_site_fuel_type_mod.str.lower()\n",
    "\n",
    "s_site_fuel_type_mod.value_counts()"
   ]
  },
  {
   "cell_type": "markdown",
   "id": "2967d628-b949-4501-a98d-527f33830989",
   "metadata": {
    "tags": []
   },
   "source": [
    "<br>\n",
    "\n",
    "### Data Coverage\n",
    "\n",
    "We'll start by getting the ids of the plants in each dataset"
   ]
  },
  {
   "cell_type": "code",
   "execution_count": 72,
   "id": "6ee1f213-2d08-44f3-a586-be5196e1d288",
   "metadata": {},
   "outputs": [
    {
     "name": "stdout",
     "output_type": "stream",
     "text": [
      "Data Coverage\n",
      "=================\n",
      "Emissions: 73\n",
      "Power output: 165\n",
      "Fuel type: 214\n",
      "All: 54\n"
     ]
    }
   ],
   "source": [
    "sites_with_co2_data = s_site_co2.index.get_level_values(0).unique()\n",
    "sites_with_output_data = s_site_output.index.get_level_values(0).unique()\n",
    "sites_with_fuel_type_data =s_site_fuel_type_mod.index\n",
    "\n",
    "sites_with_all_datasets = sites_with_co2_data.intersection(sites_with_output_data).intersection(sites_with_fuel_type_data)\n",
    "\n",
    "dataset_ids = {\n",
    "    'emissions': sites_with_co2_data, \n",
    "    'power output': sites_with_output_data, \n",
    "    'fuel type': sites_with_fuel_type_data, \n",
    "    'all': sites_with_all_datasets\n",
    "}\n",
    "\n",
    "print('Data Coverage\\n=================')\n",
    "for dataset, ids in dataset_ids.items():\n",
    "    print(f'{dataset.capitalize()}: {ids.size}')"
   ]
  },
  {
   "cell_type": "markdown",
   "id": "10c7eae9-0430-4584-8d4e-e268202e90b9",
   "metadata": {},
   "source": [
    "<br>\n",
    "\n",
    "We'll first identify plants that have associated emissions but no assigned fuel type"
   ]
  },
  {
   "cell_type": "code",
   "execution_count": 73,
   "id": "c354c408-fb40-4eb0-9c09-4f2371e52799",
   "metadata": {},
   "outputs": [
    {
     "data": {
      "text/plain": [
       "dictionary_id\n",
       "10072    Shotton CHP\n",
       "10074      Stoke CHP\n",
       "Name: name, dtype: object"
      ]
     },
     "execution_count": 73,
     "metadata": {},
     "output_type": "execute_result"
    }
   ],
   "source": [
    "relevant_fuel_types = ['coal', 'ccgt', 'ocgt', 'biomass', 'mixed', 'recip', 'oil']\n",
    "\n",
    "sites_with_relevant_fuel_type = s_site_fuel_type_mod.index[s_site_fuel_type_mod.isin(relevant_fuel_types)]\n",
    "sites_without_relevant_fuel_type = s_site_fuel_type_mod.index[~s_site_fuel_type_mod.isin(relevant_fuel_types)]\n",
    "sites_with_emissions_but_no_fuel_type = sites_with_co2_data[~sites_with_co2_data.isin(sites_with_relevant_fuel_type)]\n",
    "\n",
    "df_ids.loc[sites_with_emissions_but_no_fuel_type, 'name']"
   ]
  },
  {
   "cell_type": "markdown",
   "id": "ecbabf03-f239-4ad7-8b2a-ac38b345f6eb",
   "metadata": {},
   "source": [
    "<br>\n",
    "\n",
    "We'll also filter for any sites for which we have output data but not emissions data (excluding RES plants and those which have already been identified as having emissions but no fuel type)"
   ]
  },
  {
   "cell_type": "code",
   "execution_count": 74,
   "id": "3a4542f0-ed88-4e10-9641-32a0ad2345ea",
   "metadata": {},
   "outputs": [
    {
     "data": {
      "text/plain": [
       "osuked_id\n",
       "10000    Rothes Bio-Plant CHP\n",
       "Name: name, dtype: object"
      ]
     },
     "execution_count": 74,
     "metadata": {},
     "output_type": "execute_result"
    }
   ],
   "source": [
    "output_datasets_to_match = sorted(list(set(sites_with_output_data) - set(sites_with_all_datasets) - set(sites_with_emissions_but_no_fuel_type) - set(sites_without_relevant_fuel_type)))\n",
    "\n",
    "df_ids.loc[output_datasets_to_match, 'name']"
   ]
  },
  {
   "cell_type": "markdown",
   "id": "f0fc41f3-f80a-4511-878a-eb1c56ec8ac1",
   "metadata": {},
   "source": [
    "<br>\n",
    "\n",
    "### Calculating Annual Carbon Intensities\n",
    "\n",
    "We're now ready to calculate the annual carbon intensities"
   ]
  },
  {
   "cell_type": "code",
   "execution_count": 75,
   "id": "fcd47f5c-1b4b-44d6-8ba7-deb1b15b7f60",
   "metadata": {},
   "outputs": [
    {
     "data": {
      "text/plain": [
       "dictionary_id  year\n",
       "10002          2016     856.556931\n",
       "               2017     849.483513\n",
       "               2018     933.703289\n",
       "               2019     918.491921\n",
       "               2020    3368.789243\n",
       "                          ...     \n",
       "10104          2016    1104.226297\n",
       "               2017    1110.856183\n",
       "               2018    1103.122391\n",
       "               2019    1125.497186\n",
       "               2020    1070.007876\n",
       "Name: value, Length: 236, dtype: float64"
      ]
     },
     "execution_count": 75,
     "metadata": {},
     "output_type": "execute_result"
    }
   ],
   "source": [
    "s_site_carbon_intensity = 1000 * (s_site_co2.loc[sites_with_all_datasets]/s_site_output.loc[sites_with_all_datasets]).replace(np.inf, np.nan).replace(-np.inf, np.nan).dropna()\n",
    "\n",
    "s_site_carbon_intensity"
   ]
  },
  {
   "cell_type": "markdown",
   "id": "a8a63322-5373-4586-b51c-a3c91bb3b4f1",
   "metadata": {},
   "source": [
    "<br>\n",
    "\n",
    "We'll now filter for only thermal generation"
   ]
  },
  {
   "cell_type": "code",
   "execution_count": 76,
   "id": "83b75e42-3fec-477c-b430-b1a665e52497",
   "metadata": {},
   "outputs": [
    {
     "data": {
      "text/plain": [
       "dictionary_id  year\n",
       "10002          2016     856.556931\n",
       "               2017     849.483513\n",
       "               2018     933.703289\n",
       "               2019     918.491921\n",
       "               2020    3368.789243\n",
       "                          ...     \n",
       "10104          2016    1104.226297\n",
       "               2017    1110.856183\n",
       "               2018    1103.122391\n",
       "               2019    1125.497186\n",
       "               2020    1070.007876\n",
       "Name: value, Length: 236, dtype: float64"
      ]
     },
     "execution_count": 76,
     "metadata": {},
     "output_type": "execute_result"
    }
   ],
   "source": [
    "s_site_focus_carbon_intensity = s_site_carbon_intensity.loc[s_site_carbon_intensity.index.get_level_values(0).isin(sites_with_all_datasets)]\n",
    "s_site_focus_fuel_types = pd.Series(s_site_focus_carbon_intensity.index.get_level_values(0).map(s_site_fuel_type_mod.to_dict()), index=s_site_focus_carbon_intensity.index)\n",
    "\n",
    "s_site_focus_carbon_intensity"
   ]
  },
  {
   "cell_type": "markdown",
   "id": "599004c1-d0b9-41b5-a22b-45d92612ed58",
   "metadata": {},
   "source": [
    "<br>\n",
    "\n",
    "We'll also check if there's any outliers which haven't been evaluated"
   ]
  },
  {
   "cell_type": "code",
   "execution_count": 121,
   "id": "83589372-bc2c-4edb-98c3-9f350ae54eff",
   "metadata": {},
   "outputs": [
    {
     "data": {
      "text/plain": [
       "0"
      ]
     },
     "execution_count": 121,
     "metadata": {},
     "output_type": "execute_result"
    }
   ],
   "source": [
    "assert s_site_focus_carbon_intensity.index[s_site_focus_carbon_intensity<0].size == 0, 'There should not be sites with negative carbon intensities'\n",
    "\n",
    "known_carbon_intensity_outliers = [\n",
    "    (10002, 2020), # the site shut-down\n",
    "    (10013, 2018), # low output whilst converting to biomass\n",
    "    (10013, 2019), # low output whilst converting to biomass\n",
    "    (10024, 2018), # low output whilst closing\n",
    "    (10024, 2019), # low output whilst closing\n",
    "    (10026, 2018), # output fell whilst emissions rose - perhaps due to adjacent biomass plant which is not included in output but is in emissions\n",
    "    (10026, 2019), # output fell whilst emissions rose - perhaps due to adjacent biomass plant which is not included in output but is in emissions\n",
    "    (10026, 2020), # output fell whilst emissions rose - perhaps due to adjacent biomass plant which is not included in output but is in emissions\n",
    "    (10048, 2018), # 5 recips started generating at the end of 2018 (which are likely not included in output)\n",
    "    (10048, 2019), # 5 recips started generating at the end of 2018 (which are likely not included in output)\n",
    "    (10048, 2020), # 5 recips started generating at the end of 2018 (which are likely not included in output)\n",
    "    (10066, 2016), # located in sellafield, probably including emissions unrelated to electricity generation\n",
    "    (10066, 2017), # located in sellafield, probably including emissions unrelated to electricity generation\n",
    "    (10066, 2018), # located in sellafield, probably including emissions unrelated to electricity generation\n",
    "    (10066, 2019), # located in sellafield, probably including emissions unrelated to electricity generation\n",
    "    (10066, 2020), # located in sellafield, probably including emissions unrelated to electricity generation\n",
    "    (10091, 2020), # unclear \n",
    "    (10097, 2020), # unclear\n",
    "    (10065, 2016), # the emissions site boundary is fuzzy as it is located within an oil refinery\n",
    "    (10065, 2017), # the emissions site boundary is fuzzy as it is located within an oil refinery\n",
    "    (10065, 2018), # the emissions site boundary is fuzzy as it is located within an oil refinery\n",
    "    (10065, 2019), # the emissions site boundary is fuzzy as it is located within an oil refinery\n",
    "    (10065, 2020), # the emissions site boundary is fuzzy as it is located within an oil refinery\n",
    "]\n",
    "\n",
    "s_outlier_carbon_intensities = s_site_focus_carbon_intensity.loc[s_site_focus_carbon_intensity.index[s_site_focus_carbon_intensity>1200]]\n",
    "outlier_carbon_intensity_sites = s_outlier_carbon_intensities.index.get_level_values(0).unique()\n",
    "\n",
    "unknown_carbon_intensity_outliers = s_outlier_carbon_intensities.drop(set(known_carbon_intensity_outliers).intersection(set(s_outlier_carbon_intensities.index))).index\n",
    "unknown_carbon_intensity_outliers.size"
   ]
  },
  {
   "cell_type": "markdown",
   "id": "cb46aecf-2dbe-49be-b983-221dfab35183",
   "metadata": {},
   "source": [
    "<br>\n",
    "\n",
    "Finally we're ready to save the dataset"
   ]
  },
  {
   "cell_type": "code",
   "execution_count": 189,
   "id": "ac2ffba4-d7fb-4331-8377-a6f645a056de",
   "metadata": {
    "tags": []
   },
   "outputs": [],
   "source": [
    "s_site_focus_carbon_intensity.name = 'carbon_intensity_gco2_per_kwh'\n",
    "s_site_focus_carbon_intensity = s_site_focus_carbon_intensity.drop(set(known_carbon_intensity_outliers).intersection(set(s_site_focus_carbon_intensity.index)))\n",
    "\n",
    "s_site_focus_carbon_intensity.to_csv('../data/plant_carbon_intensity.csv', float_format='%.2f')"
   ]
  },
  {
   "cell_type": "markdown",
   "id": "9eea1d3a-9c78-401a-b2f7-fffb53867a54",
   "metadata": {},
   "source": [
    "<br>\n",
    "\n",
    "### Visualisations\n",
    "\n",
    "Our first visualisation will be a scatter plot of carbon intensity against annual emissions"
   ]
  },
  {
   "cell_type": "code",
   "execution_count": 131,
   "id": "a6e6312a-90ae-4ba2-b605-d2e727b4391c",
   "metadata": {
    "tags": []
   },
   "outputs": [
    {
     "data": {
      "text/plain": [
       "Text(0, 0.5, 'Annual Carbon Intensity (gCO2/kWh)')"
      ]
     },
     "execution_count": 131,
     "metadata": {},
     "output_type": "execute_result"
    },
    {
     "data": {
      "image/png": "[encoded data removed]",
      "text/plain": [
       "<Figure size 900x600 with 1 Axes>"
      ]
     },
     "metadata": {
      "needs_background": "light"
     },
     "output_type": "display_data"
    }
   ],
   "source": [
    "fuel_colour_map = {\n",
    "    'Biomass': 'brown', \n",
    "    'Mixed': 'grey', \n",
    "    'CCGT': 'C0', \n",
    "    'OCGT': 'C1',\n",
    "    'Coal': 'black',\n",
    "    'RGT': 'purple'\n",
    "}\n",
    "\n",
    "# Plotting\n",
    "fig, ax = plt.subplots(dpi=150)\n",
    "\n",
    "for fuel_type in fuel_colour_map.keys():\n",
    "    idxs = s_site_focus_carbon_intensity.index[s_site_focus_carbon_intensity.index.get_level_values(0).isin(s_site_fuel_type_mod.index[s_site_fuel_type_mod==fuel_type.lower()])]\n",
    "    \n",
    "    if idxs.size > 0:\n",
    "        ax.scatter(s_site_output.loc[idxs].divide(1e6), s_site_focus_carbon_intensity.loc[idxs], c=fuel_colour_map[fuel_type], label=f'{fuel_type} (n={idxs.size})', s=5)\n",
    "\n",
    "hlp.hide_spines(ax)\n",
    "ax.set_ylim(0)\n",
    "ax.legend(frameon=False)\n",
    "ax.set_xlabel('Annual Output (TWh)')\n",
    "ax.set_ylabel('Annual Carbon Intensity (gCO2/kWh)')"
   ]
  },
  {
   "cell_type": "code",
   "execution_count": null,
   "id": "cb5d48e4-2cc5-4d7d-bd64-767a30344ff9",
   "metadata": {},
   "outputs": [],
   "source": []
  },
  {
   "cell_type": "code",
   "execution_count": 166,
   "id": "a03c65fc-c6d9-42ea-aa35-8780bb2f777f",
   "metadata": {},
   "outputs": [
    {
     "data": {
      "text/plain": [
       "Text(0, 0.5, 'Annual Carbon Intensity (gCO2/kWh)')"
      ]
     },
     "execution_count": 166,
     "metadata": {},
     "output_type": "execute_result"
    },
    {
     "data": {
      "image/png": "[encoded data removed]",
      "text/plain": [
       "<Figure size 900x600 with 1 Axes>"
      ]
     },
     "metadata": {
      "needs_background": "light"
     },
     "output_type": "display_data"
    }
   ],
   "source": [
    "s_plot_fuel_types = s_site_focus_fuel_types.loc[s_site_focus_carbon_intensity.index][s_site_focus_fuel_types.loc[s_site_focus_carbon_intensity.index].isin(['coal', 'ocgt', 'ccgt'])].drop(set(known_carbon_intensity_outliers).intersection(set(s_site_focus_carbon_intensity.index)))\n",
    "\n",
    "fuel_label_map = {\n",
    "    'ccgt': f'CCGT\\nn={s_plot_fuel_types.value_counts()[\"ccgt\"]}', \n",
    "    'ocgt': f'OCGT\\nn={s_plot_fuel_types.value_counts()[\"ocgt\"]}',\n",
    "    'coal': f'Coal\\nn={s_plot_fuel_types.value_counts()[\"coal\"]}'\n",
    "}\n",
    "\n",
    "# Plotting\n",
    "fig, ax = plt.subplots(dpi=150)\n",
    "\n",
    "sns.boxplot(y=s_site_focus_carbon_intensity.loc[s_plot_fuel_types.index], x=s_plot_fuel_types.map(fuel_label_map), orient='v', ax=ax, order=fuel_label_map.values())\n",
    "\n",
    "hlp.hide_spines(ax)\n",
    "ax.set_xlabel('')\n",
    "ax.set_ylabel('Annual Carbon Intensity (gCO2/kWh)')"
   ]
  },
  {
   "cell_type": "code",
   "execution_count": null,
   "id": "9a012269-26b8-4933-8713-7980f0c5119e",
   "metadata": {},
   "outputs": [],
   "source": []
  },
  {
   "cell_type": "code",
   "execution_count": 177,
   "id": "c4ce3b97-16b1-47f2-9aa0-5dec9b7f905e",
   "metadata": {},
   "outputs": [
    {
     "data": {
      "text/html": [
       "<div>\n",
       "<style scoped>\n",
       "    .dataframe tbody tr th:only-of-type {\n",
       "        vertical-align: middle;\n",
       "    }\n",
       "\n",
       "    .dataframe tbody tr th {\n",
       "        vertical-align: top;\n",
       "    }\n",
       "\n",
       "    .dataframe thead th {\n",
       "        text-align: right;\n",
       "    }\n",
       "</style>\n",
       "<table border=\"1\" class=\"dataframe\">\n",
       "  <thead>\n",
       "    <tr style=\"text-align: right;\">\n",
       "      <th></th>\n",
       "      <th>average</th>\n",
       "      <th>median</th>\n",
       "    </tr>\n",
       "    <tr>\n",
       "      <th>fuel_type</th>\n",
       "      <th></th>\n",
       "      <th></th>\n",
       "    </tr>\n",
       "  </thead>\n",
       "  <tbody>\n",
       "    <tr>\n",
       "      <th>ccgt</th>\n",
       "      <td>387.471</td>\n",
       "      <td>389.257</td>\n",
       "    </tr>\n",
       "    <tr>\n",
       "      <th>ocgt</th>\n",
       "      <td>1071.05</td>\n",
       "      <td>1103.12</td>\n",
       "    </tr>\n",
       "    <tr>\n",
       "      <th>coal</th>\n",
       "      <td>940.148</td>\n",
       "      <td>935.907</td>\n",
       "    </tr>\n",
       "  </tbody>\n",
       "</table>\n",
       "</div>"
      ],
      "text/plain": [
       "           average   median\n",
       "fuel_type                  \n",
       "ccgt       387.471  389.257\n",
       "ocgt       1071.05  1103.12\n",
       "coal       940.148  935.907"
      ]
     },
     "execution_count": 177,
     "metadata": {},
     "output_type": "execute_result"
    }
   ],
   "source": [
    "df_avg_carbon_intensities = pd.DataFrame(index=fuel_label_map.keys(), columns=['average', 'median'])\n",
    "df_avg_carbon_intensities.index.name = 'fuel_type'\n",
    "\n",
    "for fuel_type in df_avg_carbon_intensities.index:\n",
    "    fuel_idxs = s_plot_fuel_types.index[s_plot_fuel_types==fuel_type]\n",
    "    \n",
    "    df_avg_carbon_intensities.loc[fuel_type, 'average'] = np.average(s_site_focus_carbon_intensity.loc[fuel_idxs], weights=s_site_output.loc[fuel_idxs])\n",
    "    df_avg_carbon_intensities.loc[fuel_type, 'median'] = s_site_focus_carbon_intensity.loc[fuel_idxs].median()\n",
    "    \n",
    "df_avg_carbon_intensities"
   ]
  },
  {
   "cell_type": "markdown",
   "id": "30ceed63-e33e-4572-9912-59511a824e83",
   "metadata": {},
   "source": [
    "<br>\n",
    "\n",
    "And then create a histogram for only the OCGT and CCGT plants "
   ]
  },
  {
   "cell_type": "code",
   "execution_count": 188,
   "id": "ab9a9fa0-8ea7-4134-8dbc-e60c0b1e988a",
   "metadata": {},
   "outputs": [
    {
     "data": {
      "text/plain": [
       "<matplotlib.legend.Legend at 0x23c70b9ff10>"
      ]
     },
     "execution_count": 188,
     "metadata": {},
     "output_type": "execute_result"
    },
    {
     "data": {
      "image/png": "[encoded data removed]",
      "text/plain": [
       "<Figure size 900x600 with 1 Axes>"
      ]
     },
     "metadata": {
      "needs_background": "light"
     },
     "output_type": "display_data"
    }
   ],
   "source": [
    "fig, ax = plt.subplots(dpi=150)\n",
    "\n",
    "for i, fuel_type in enumerate(['ccgt', 'ocgt']):\n",
    "    fuel_idxs = s_plot_fuel_types.index[s_plot_fuel_types==fuel_type]\n",
    "    sns.histplot(s_site_focus_carbon_intensity.loc[fuel_idxs], binwidth=25, ax=ax, label=fuel_type.upper(), color=f'C{i}')\n",
    "\n",
    "ax.set_xlabel('Annual Carbon Intensity (gCO2/kWh)')\n",
    "hlp.hide_spines(ax)\n",
    "ax.set_yscale('log')\n",
    "ax.legend(frameon=False)"
   ]
  },
  {
   "cell_type": "code",
   "execution_count": null,
   "id": "ece1e80a-386c-47b7-9bac-bfeadcc9dec8",
   "metadata": {},
   "outputs": [],
   "source": []
  }
 ],
 "metadata": {
  "kernelspec": {
   "display_name": "gbco2",
   "language": "python",
   "name": "gbco2"
  },
  "language_info": {
   "codemirror_mode": {
    "name": "ipython",
    "version": 3
   },
   "file_extension": ".py",
   "mimetype": "text/x-python",
   "name": "python",
   "nbconvert_exporter": "python",
   "pygments_lexer": "ipython3",
   "version": "3.9.7"
  }
 },
 "nbformat": 4,
 "nbformat_minor": 5
}
